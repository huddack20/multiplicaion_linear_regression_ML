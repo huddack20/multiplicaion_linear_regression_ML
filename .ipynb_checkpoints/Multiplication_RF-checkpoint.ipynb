{
 "cells": [
  {
   "cell_type": "markdown",
   "id": "5981ca8f",
   "metadata": {},
   "source": [
    "# Dependencies"
   ]
  },
  {
   "cell_type": "code",
   "execution_count": 2,
   "id": "340b011b",
   "metadata": {},
   "outputs": [],
   "source": [
    "from sklearn.tree import DecisionTreeRegressor\n",
    "from sklearn.model_selection import train_test_split\n",
    "from sklearn.metrics import mean_squared_error as MSE\n",
    "import seaborn as sns\n",
    "import pandas as pd\n",
    "import numpy as np"
   ]
  },
  {
   "cell_type": "code",
   "execution_count": 3,
   "id": "5ac4c185",
   "metadata": {},
   "outputs": [],
   "source": [
    "from sklearn.ensemble import RandomForestClassifier\n",
    "from sklearn.datasets import make_classification"
   ]
  },
  {
   "cell_type": "code",
   "execution_count": 4,
   "id": "d882155c",
   "metadata": {},
   "outputs": [],
   "source": [
    "data = pd.read_csv(\"multiplication.csv\")"
   ]
  },
  {
   "cell_type": "code",
   "execution_count": 5,
   "id": "0dd00567",
   "metadata": {},
   "outputs": [
    {
     "data": {
      "text/html": [
       "<div>\n",
       "<style scoped>\n",
       "    .dataframe tbody tr th:only-of-type {\n",
       "        vertical-align: middle;\n",
       "    }\n",
       "\n",
       "    .dataframe tbody tr th {\n",
       "        vertical-align: top;\n",
       "    }\n",
       "\n",
       "    .dataframe thead th {\n",
       "        text-align: right;\n",
       "    }\n",
       "</style>\n",
       "<table border=\"1\" class=\"dataframe\">\n",
       "  <thead>\n",
       "    <tr style=\"text-align: right;\">\n",
       "      <th></th>\n",
       "      <th>x</th>\n",
       "      <th>y</th>\n",
       "      <th>mul</th>\n",
       "    </tr>\n",
       "  </thead>\n",
       "  <tbody>\n",
       "    <tr>\n",
       "      <th>453</th>\n",
       "      <td>378.0</td>\n",
       "      <td>112.0</td>\n",
       "      <td>42336.0</td>\n",
       "    </tr>\n",
       "  </tbody>\n",
       "</table>\n",
       "</div>"
      ],
      "text/plain": [
       "         x      y      mul\n",
       "453  378.0  112.0  42336.0"
      ]
     },
     "execution_count": 5,
     "metadata": {},
     "output_type": "execute_result"
    }
   ],
   "source": [
    "data.loc[data['x'] == 378.0]"
   ]
  },
  {
   "cell_type": "markdown",
   "id": "e27cd687",
   "metadata": {},
   "source": [
    "# Build M = x * y model\n",
    "   First, take logarithm to convert log(M) = log(x) + log(y)"
   ]
  },
  {
   "cell_type": "code",
   "execution_count": 6,
   "id": "78bbb0c9",
   "metadata": {},
   "outputs": [],
   "source": [
    "x_data = np.log(data['x'])\n",
    "y_data = np.log(data['y'])\n",
    "mul_data = np.log(data['mul'])"
   ]
  },
  {
   "cell_type": "markdown",
   "id": "a4f43e31",
   "metadata": {},
   "source": [
    "# Make a new data frame"
   ]
  },
  {
   "cell_type": "code",
   "execution_count": 8,
   "id": "e828a8fe",
   "metadata": {},
   "outputs": [
    {
     "data": {
      "text/html": [
       "<div>\n",
       "<style scoped>\n",
       "    .dataframe tbody tr th:only-of-type {\n",
       "        vertical-align: middle;\n",
       "    }\n",
       "\n",
       "    .dataframe tbody tr th {\n",
       "        vertical-align: top;\n",
       "    }\n",
       "\n",
       "    .dataframe thead th {\n",
       "        text-align: right;\n",
       "    }\n",
       "</style>\n",
       "<table border=\"1\" class=\"dataframe\">\n",
       "  <thead>\n",
       "    <tr style=\"text-align: right;\">\n",
       "      <th></th>\n",
       "      <th>X</th>\n",
       "      <th>Y</th>\n",
       "      <th>Mul</th>\n",
       "    </tr>\n",
       "  </thead>\n",
       "  <tbody>\n",
       "    <tr>\n",
       "      <th>0</th>\n",
       "      <td>0.000000</td>\n",
       "      <td>0.000000</td>\n",
       "      <td>0.000000</td>\n",
       "    </tr>\n",
       "    <tr>\n",
       "      <th>1</th>\n",
       "      <td>1.386294</td>\n",
       "      <td>1.386294</td>\n",
       "      <td>2.772589</td>\n",
       "    </tr>\n",
       "    <tr>\n",
       "      <th>2</th>\n",
       "      <td>1.791759</td>\n",
       "      <td>1.791759</td>\n",
       "      <td>3.583519</td>\n",
       "    </tr>\n",
       "    <tr>\n",
       "      <th>3</th>\n",
       "      <td>2.302585</td>\n",
       "      <td>2.302585</td>\n",
       "      <td>4.605170</td>\n",
       "    </tr>\n",
       "    <tr>\n",
       "      <th>4</th>\n",
       "      <td>3.401197</td>\n",
       "      <td>3.401197</td>\n",
       "      <td>6.802395</td>\n",
       "    </tr>\n",
       "    <tr>\n",
       "      <th>...</th>\n",
       "      <td>...</td>\n",
       "      <td>...</td>\n",
       "      <td>...</td>\n",
       "    </tr>\n",
       "    <tr>\n",
       "      <th>994</th>\n",
       "      <td>5.283204</td>\n",
       "      <td>5.389072</td>\n",
       "      <td>10.672275</td>\n",
       "    </tr>\n",
       "    <tr>\n",
       "      <th>995</th>\n",
       "      <td>5.438079</td>\n",
       "      <td>5.529429</td>\n",
       "      <td>10.967508</td>\n",
       "    </tr>\n",
       "    <tr>\n",
       "      <th>996</th>\n",
       "      <td>5.231109</td>\n",
       "      <td>5.529429</td>\n",
       "      <td>10.760538</td>\n",
       "    </tr>\n",
       "    <tr>\n",
       "      <th>997</th>\n",
       "      <td>6.161207</td>\n",
       "      <td>5.337538</td>\n",
       "      <td>11.498745</td>\n",
       "    </tr>\n",
       "    <tr>\n",
       "      <th>998</th>\n",
       "      <td>5.228431</td>\n",
       "      <td>5.441118</td>\n",
       "      <td>10.669549</td>\n",
       "    </tr>\n",
       "  </tbody>\n",
       "</table>\n",
       "<p>999 rows × 3 columns</p>\n",
       "</div>"
      ],
      "text/plain": [
       "            X         Y        Mul\n",
       "0    0.000000  0.000000   0.000000\n",
       "1    1.386294  1.386294   2.772589\n",
       "2    1.791759  1.791759   3.583519\n",
       "3    2.302585  2.302585   4.605170\n",
       "4    3.401197  3.401197   6.802395\n",
       "..        ...       ...        ...\n",
       "994  5.283204  5.389072  10.672275\n",
       "995  5.438079  5.529429  10.967508\n",
       "996  5.231109  5.529429  10.760538\n",
       "997  6.161207  5.337538  11.498745\n",
       "998  5.228431  5.441118  10.669549\n",
       "\n",
       "[999 rows x 3 columns]"
      ]
     },
     "execution_count": 8,
     "metadata": {},
     "output_type": "execute_result"
    }
   ],
   "source": [
    "log_df = pd.DataFrame({'X': x_data,\n",
    "                      'Y': y_data,\n",
    "                      'Mul': mul_data})\n",
    "\n",
    "log_df"
   ]
  },
  {
   "cell_type": "code",
   "execution_count": 9,
   "id": "e62a3e64",
   "metadata": {},
   "outputs": [],
   "source": [
    "labels = np.array(log_df['Mul'])"
   ]
  },
  {
   "cell_type": "code",
   "execution_count": 10,
   "id": "3b88424d",
   "metadata": {},
   "outputs": [],
   "source": [
    "features = log_df.drop('Mul', axis = 1)"
   ]
  },
  {
   "cell_type": "code",
   "execution_count": 11,
   "id": "07c5bdb0",
   "metadata": {},
   "outputs": [],
   "source": [
    "feature_list = list(features.columns)"
   ]
  },
  {
   "cell_type": "code",
   "execution_count": 12,
   "id": "de320057",
   "metadata": {},
   "outputs": [],
   "source": [
    "features = np.array(features)"
   ]
  },
  {
   "cell_type": "code",
   "execution_count": 13,
   "id": "37f63022",
   "metadata": {},
   "outputs": [
    {
     "data": {
      "text/plain": [
       "array([[0.        , 0.        ],\n",
       "       [1.38629436, 1.38629436],\n",
       "       [1.79175947, 1.79175947],\n",
       "       ...,\n",
       "       [5.23110862, 5.52942909],\n",
       "       [6.16120732, 5.33753808],\n",
       "       [5.22843124, 5.44111817]])"
      ]
     },
     "execution_count": 13,
     "metadata": {},
     "output_type": "execute_result"
    }
   ],
   "source": [
    "features"
   ]
  },
  {
   "cell_type": "code",
   "execution_count": 14,
   "id": "d26ee8cf",
   "metadata": {},
   "outputs": [],
   "source": [
    "from sklearn.linear_model import LinearRegression"
   ]
  },
  {
   "cell_type": "code",
   "execution_count": 15,
   "id": "8dafae67",
   "metadata": {},
   "outputs": [],
   "source": [
    "train_features, test_features, train_labels, test_labels = train_test_split(features, labels, test_size = 0.25, random_state = 42)"
   ]
  },
  {
   "cell_type": "code",
   "execution_count": 16,
   "id": "bcaf62c0",
   "metadata": {},
   "outputs": [
    {
     "data": {
      "text/plain": [
       "array([10.65339307, 11.22971339,  8.4469853 ,  9.73468362, 10.55307462,\n",
       "       11.18726873, 11.36951688,  9.85886878, 10.61827391, 12.46454087,\n",
       "       11.66759658, 10.36426122, 11.25220257,  9.86266556, 10.5263732 ,\n",
       "       11.91483426, 10.35974083,  9.98888513,  9.19816657, 15.09759291,\n",
       "       10.21957485,  9.91809484, 10.9075111 , 10.91473004, 11.62754974,\n",
       "        7.45471995, 12.0138765 , 10.16554408, 11.25383085, 15.12741564,\n",
       "       11.21378331,  8.90402579, 10.16449243, 12.35599583, 10.02153722,\n",
       "       10.57243476,  8.16051825, 10.01283511, 10.96424981, 12.34646482,\n",
       "       10.64718525,  9.77939717, 12.58236638, 10.925118  ,  8.3141831 ,\n",
       "       12.38380452, 10.21299227, 10.55727001,  7.59839933, 10.88861549,\n",
       "        9.9347924 , 10.74418022, 10.69854219,  8.47928362,  7.80595536,\n",
       "       15.12371905,  6.92165818,  9.66734424, 10.27810575, 10.171375  ,\n",
       "        8.81068187, 10.54179621, 10.44859865, 15.16390599, 10.21595979,\n",
       "        9.8902868 , 10.20634834, 10.34570816,  8.69684452, 12.6152276 ,\n",
       "        9.64439294,  7.82444593, 15.19249597, 15.09004648, 10.7864283 ,\n",
       "       10.51847182,  7.25911613, 10.25246132,  9.61825248, 10.63383417,\n",
       "       11.90618978, 10.3130383 ,  9.70191834, 10.66406392,  9.0431931 ,\n",
       "        9.37245922, 10.51264125, 10.23852626,  9.78695374, 10.02923876,\n",
       "        9.13647852,  9.95294416, 10.60915601, 10.11253218, 12.554064  ,\n",
       "        8.96570374,  7.25315186, 10.70099475,  9.90563524, 10.49127422,\n",
       "       15.18183586,  9.73949695, 10.48069625, 15.25838183, 12.34191387,\n",
       "       10.92060052, 12.54156226, 15.17110264, 11.36032122, 10.45875103,\n",
       "       12.68584404,  9.17486759,  8.07425672,  9.0670172 , 10.68308074,\n",
       "        9.13089016, 10.15050387,  8.98719682, 10.52212668,  9.5143573 ,\n",
       "        9.37245922, 15.10884388, 10.48795594, 10.49069071, 11.50116255,\n",
       "       11.41367955, 10.24283779,  9.68584696, 12.16299812, 12.59102547,\n",
       "       10.0034546 , 10.67227546,  9.81486069, 15.06333909,  8.27887001,\n",
       "       10.25555188,  7.12929755, 15.06718293,  7.37525578, 10.58029573,\n",
       "        9.93788898,  8.79527937,  8.84735988,  9.46194076,  9.35276138,\n",
       "       10.80810016, 10.42939881, 12.51447604,  9.53264124, 11.45674022,\n",
       "        9.01869549, 10.57398004,  9.58918768, 10.61356559,  9.30773928,\n",
       "        8.64029539, 12.43806097, 10.85748709, 10.95662293,  9.64075822,\n",
       "       10.18293582, 10.08694513, 10.00762232, 11.01541809, 12.16272664,\n",
       "       10.93305197, 12.39753563,  9.31650776,  9.2644497 ,  7.85670679,\n",
       "        9.46467246, 12.62720111, 10.99000938, 10.5433658 , 10.0687901 ,\n",
       "       15.22057392, 10.51227438, 10.55987842, 10.21343796, 10.09362102,\n",
       "        9.25798703,  8.37360915, 11.16103108,  9.73352925, 10.0656064 ,\n",
       "       10.78475196,  9.48067281,  9.85040318, 15.24815998, 10.83531083,\n",
       "       10.83869817, 12.56647414,  9.00699945, 10.16330781,  9.68657455,\n",
       "        7.7186855 ,  6.83017204,  8.77353938,  9.43348392, 12.25478662,\n",
       "       10.47936975,  9.66378389,  8.10353965, 10.61356559, 11.047309  ,\n",
       "       11.40190384,  8.91488416,  8.05484022,  9.37873202, 10.45892319,\n",
       "       12.49132301, 15.12001362, 10.80194868, 10.90910697,  9.42730487,\n",
       "        8.93270632, 10.64313657,  9.5893246 , 12.25683943, 11.88749141,\n",
       "       15.2515746 , 10.20327506, 10.77316748, 12.45608206, 12.5599918 ,\n",
       "        9.68084388, 12.63909131, 10.89124277, 10.16336758, 10.52212668,\n",
       "        9.59205499,  8.769619  ,  8.71341765, 12.51627791,  8.35608503,\n",
       "        9.6326626 ,  4.60517019, 10.43638088, 10.72026288, 10.87931055,\n",
       "       10.31797649,  8.45956408, 10.03434036,  8.71931738,  9.75420069,\n",
       "       10.04472189,  8.98369319, 11.10485196, 10.04879928,  9.11778639])"
      ]
     },
     "execution_count": 16,
     "metadata": {},
     "output_type": "execute_result"
    }
   ],
   "source": [
    "test_labels"
   ]
  },
  {
   "cell_type": "code",
   "execution_count": 17,
   "id": "f28c1e4f",
   "metadata": {},
   "outputs": [],
   "source": [
    "model = LinearRegression()"
   ]
  },
  {
   "cell_type": "code",
   "execution_count": 18,
   "id": "347220e2",
   "metadata": {},
   "outputs": [
    {
     "data": {
      "text/html": [
       "<style>#sk-container-id-1 {color: black;background-color: white;}#sk-container-id-1 pre{padding: 0;}#sk-container-id-1 div.sk-toggleable {background-color: white;}#sk-container-id-1 label.sk-toggleable__label {cursor: pointer;display: block;width: 100%;margin-bottom: 0;padding: 0.3em;box-sizing: border-box;text-align: center;}#sk-container-id-1 label.sk-toggleable__label-arrow:before {content: \"▸\";float: left;margin-right: 0.25em;color: #696969;}#sk-container-id-1 label.sk-toggleable__label-arrow:hover:before {color: black;}#sk-container-id-1 div.sk-estimator:hover label.sk-toggleable__label-arrow:before {color: black;}#sk-container-id-1 div.sk-toggleable__content {max-height: 0;max-width: 0;overflow: hidden;text-align: left;background-color: #f0f8ff;}#sk-container-id-1 div.sk-toggleable__content pre {margin: 0.2em;color: black;border-radius: 0.25em;background-color: #f0f8ff;}#sk-container-id-1 input.sk-toggleable__control:checked~div.sk-toggleable__content {max-height: 200px;max-width: 100%;overflow: auto;}#sk-container-id-1 input.sk-toggleable__control:checked~label.sk-toggleable__label-arrow:before {content: \"▾\";}#sk-container-id-1 div.sk-estimator input.sk-toggleable__control:checked~label.sk-toggleable__label {background-color: #d4ebff;}#sk-container-id-1 div.sk-label input.sk-toggleable__control:checked~label.sk-toggleable__label {background-color: #d4ebff;}#sk-container-id-1 input.sk-hidden--visually {border: 0;clip: rect(1px 1px 1px 1px);clip: rect(1px, 1px, 1px, 1px);height: 1px;margin: -1px;overflow: hidden;padding: 0;position: absolute;width: 1px;}#sk-container-id-1 div.sk-estimator {font-family: monospace;background-color: #f0f8ff;border: 1px dotted black;border-radius: 0.25em;box-sizing: border-box;margin-bottom: 0.5em;}#sk-container-id-1 div.sk-estimator:hover {background-color: #d4ebff;}#sk-container-id-1 div.sk-parallel-item::after {content: \"\";width: 100%;border-bottom: 1px solid gray;flex-grow: 1;}#sk-container-id-1 div.sk-label:hover label.sk-toggleable__label {background-color: #d4ebff;}#sk-container-id-1 div.sk-serial::before {content: \"\";position: absolute;border-left: 1px solid gray;box-sizing: border-box;top: 0;bottom: 0;left: 50%;z-index: 0;}#sk-container-id-1 div.sk-serial {display: flex;flex-direction: column;align-items: center;background-color: white;padding-right: 0.2em;padding-left: 0.2em;position: relative;}#sk-container-id-1 div.sk-item {position: relative;z-index: 1;}#sk-container-id-1 div.sk-parallel {display: flex;align-items: stretch;justify-content: center;background-color: white;position: relative;}#sk-container-id-1 div.sk-item::before, #sk-container-id-1 div.sk-parallel-item::before {content: \"\";position: absolute;border-left: 1px solid gray;box-sizing: border-box;top: 0;bottom: 0;left: 50%;z-index: -1;}#sk-container-id-1 div.sk-parallel-item {display: flex;flex-direction: column;z-index: 1;position: relative;background-color: white;}#sk-container-id-1 div.sk-parallel-item:first-child::after {align-self: flex-end;width: 50%;}#sk-container-id-1 div.sk-parallel-item:last-child::after {align-self: flex-start;width: 50%;}#sk-container-id-1 div.sk-parallel-item:only-child::after {width: 0;}#sk-container-id-1 div.sk-dashed-wrapped {border: 1px dashed gray;margin: 0 0.4em 0.5em 0.4em;box-sizing: border-box;padding-bottom: 0.4em;background-color: white;}#sk-container-id-1 div.sk-label label {font-family: monospace;font-weight: bold;display: inline-block;line-height: 1.2em;}#sk-container-id-1 div.sk-label-container {text-align: center;}#sk-container-id-1 div.sk-container {/* jupyter's `normalize.less` sets `[hidden] { display: none; }` but bootstrap.min.css set `[hidden] { display: none !important; }` so we also need the `!important` here to be able to override the default hidden behavior on the sphinx rendered scikit-learn.org. See: https://github.com/scikit-learn/scikit-learn/issues/21755 */display: inline-block !important;position: relative;}#sk-container-id-1 div.sk-text-repr-fallback {display: none;}</style><div id=\"sk-container-id-1\" class=\"sk-top-container\"><div class=\"sk-text-repr-fallback\"><pre>LinearRegression()</pre><b>In a Jupyter environment, please rerun this cell to show the HTML representation or trust the notebook. <br />On GitHub, the HTML representation is unable to render, please try loading this page with nbviewer.org.</b></div><div class=\"sk-container\" hidden><div class=\"sk-item\"><div class=\"sk-estimator sk-toggleable\"><input class=\"sk-toggleable__control sk-hidden--visually\" id=\"sk-estimator-id-1\" type=\"checkbox\" checked><label for=\"sk-estimator-id-1\" class=\"sk-toggleable__label sk-toggleable__label-arrow\">LinearRegression</label><div class=\"sk-toggleable__content\"><pre>LinearRegression()</pre></div></div></div></div></div>"
      ],
      "text/plain": [
       "LinearRegression()"
      ]
     },
     "execution_count": 18,
     "metadata": {},
     "output_type": "execute_result"
    }
   ],
   "source": [
    "model.fit(train_features, train_labels)"
   ]
  },
  {
   "cell_type": "code",
   "execution_count": 19,
   "id": "8e6a6eb1",
   "metadata": {},
   "outputs": [
    {
     "data": {
      "text/plain": [
       "array([[5.9348942 , 4.71849887],\n",
       "       [6.08221891, 5.14749448],\n",
       "       [4.07753744, 4.36944785],\n",
       "       [4.5716134 , 5.16307022],\n",
       "       [5.22035583, 5.33271879],\n",
       "       [6.2126061 , 4.97466263],\n",
       "       [6.12249281, 5.24702407],\n",
       "       [4.84890037, 5.00996841],\n",
       "       [5.92692603, 4.69134788],\n",
       "       [5.75890177, 6.70563909],\n",
       "       [6.33150185, 5.33609473],\n",
       "       [5.11198779, 5.25227343],\n",
       "       [5.86816633, 5.38403624],\n",
       "       [4.85203026, 5.01063529],\n",
       "       [5.19849703, 5.32787617],\n",
       "       [6.0149369 , 5.89989735],\n",
       "       [5.11799381, 5.24174702],\n",
       "       [4.91998093, 5.0689042 ],\n",
       "       [4.48863637, 4.7095302 ],\n",
       "       [6.94022247, 8.15737044],\n",
       "       [5.04342512, 5.17614973],\n",
       "       [4.68859179, 5.22950305],\n",
       "       [5.4107528 , 5.49675831],\n",
       "       [5.29179615, 5.62293389],\n",
       "       [6.32076829, 5.30678144],\n",
       "       [3.4657359 , 3.98898405],\n",
       "       [5.42495002, 6.58892648],\n",
       "       [5.83481074, 4.33073334],\n",
       "       [6.08904488, 5.16478597],\n",
       "       [6.96318999, 8.16422565],\n",
       "       [6.21860012, 4.99518319],\n",
       "       [4.19720195, 4.70682384],\n",
       "       [4.87976702, 5.28472541],\n",
       "       [5.68017261, 6.67582322],\n",
       "       [4.79579055, 5.22574667],\n",
       "       [5.23537757, 5.33705719],\n",
       "       [3.91202301, 4.24849524],\n",
       "       [5.80814249, 4.20469262],\n",
       "       [5.76079273, 5.20345709],\n",
       "       [6.21959564, 6.12686918],\n",
       "       [5.26269019, 5.38449506],\n",
       "       [4.79579055, 4.98360662],\n",
       "       [6.33239113, 6.24997524],\n",
       "       [6.15697899, 4.76813901],\n",
       "       [3.81771233, 4.49647077],\n",
       "       [5.70044357, 6.68336095],\n",
       "       [5.84354442, 4.36944785],\n",
       "       [5.21493576, 5.34233425],\n",
       "       [3.55534806, 4.04305127],\n",
       "       [5.27658287, 5.61203262],\n",
       "       [4.8978398 , 5.0369526 ],\n",
       "       [5.6822183 , 5.06196192],\n",
       "       [5.29631536, 5.40222683],\n",
       "       [4.06044301, 4.41884061],\n",
       "       [3.28091122, 4.52504414],\n",
       "       [6.96034773, 8.16337132],\n",
       "       [2.56494936, 4.35670883],\n",
       "       [4.65871095, 5.00863329],\n",
       "       [5.08016136, 5.19794439],\n",
       "       [5.02388052, 5.14749448],\n",
       "       [3.94545778, 4.86522409],\n",
       "       [5.21927416, 5.32252206],\n",
       "       [5.170484  , 5.27811466],\n",
       "       [6.99117689, 8.1727291 ],\n",
       "       [4.91265489, 5.30330491],\n",
       "       [4.87366944, 5.01661737],\n",
       "       [5.04213396, 5.16421438],\n",
       "       [4.98770779, 5.35800037],\n",
       "       [4.21950771, 4.47733681],\n",
       "       [5.86646806, 6.74875955],\n",
       "       [5.75257264, 3.8918203 ],\n",
       "       [3.71357207, 4.11087386],\n",
       "       [7.01301579, 8.17948019],\n",
       "       [6.93439721, 8.15564927],\n",
       "       [5.96614674, 4.82028157],\n",
       "       [5.14458327, 5.37388855],\n",
       "       [3.36729583, 3.8918203 ],\n",
       "       [5.06006018, 5.19240114],\n",
       "       [4.6298628 , 4.98838969],\n",
       "       [5.26785816, 5.36597602],\n",
       "       [5.34233425, 6.56385553],\n",
       "       [5.09864617, 5.21439213],\n",
       "       [5.35941247, 4.34250588],\n",
       "       [5.17388729, 5.49017663],\n",
       "       [4.28358656, 4.75960654],\n",
       "       [4.58496748, 4.78749174],\n",
       "       [5.05433315, 5.4583081 ],\n",
       "       [4.88809094, 5.35043532],\n",
       "       [5.18178355, 4.60517019],\n",
       "       [4.94164242, 5.08759634],\n",
       "       [4.4543473 , 4.68213123],\n",
       "       [4.89034913, 5.06259503],\n",
       "       [5.49716823, 5.11198779],\n",
       "       [4.97673374, 5.13579844],\n",
       "       [5.8230459 , 6.7310181 ],\n",
       "       [4.05525717, 4.91044657],\n",
       "       [3.06805294, 4.18509893],\n",
       "       [5.29831737, 5.40267738],\n",
       "       [4.87519732, 5.03043792],\n",
       "       [5.07517382, 5.4161004 ],\n",
       "       [7.00488199, 8.17695387],\n",
       "       [5.16478597, 4.57471098],\n",
       "       [6.07764224, 4.403054  ],\n",
       "       [7.06304816, 8.19533367],\n",
       "       [5.66988092, 6.67203295],\n",
       "       [5.40717177, 5.51342875],\n",
       "       [5.81413053, 6.72743172],\n",
       "       [6.99668149, 8.17442115],\n",
       "       [5.90971205, 5.45060918],\n",
       "       [5.170484  , 5.28826703],\n",
       "       [5.91620206, 6.76964198],\n",
       "       [4.20020495, 4.97466263],\n",
       "       [3.84160054, 4.23265618],\n",
       "       [4.41400968, 4.65300752],\n",
       "       [6.11146734, 4.5716134 ],\n",
       "       [4.44968528, 4.68120487],\n",
       "       [4.99721227, 5.15329159],\n",
       "       [4.38202663, 4.60517019],\n",
       "       [5.20400669, 5.31811999],\n",
       "       [4.67095793, 4.84339937],\n",
       "       [4.58496748, 4.78749174],\n",
       "       [6.94889722, 8.15994666],\n",
       "       [5.18514867, 5.30280727],\n",
       "       [5.18738581, 5.30330491],\n",
       "       [6.28785856, 5.21330399],\n",
       "       [6.13556489, 5.27811466],\n",
       "       [6.04263283, 4.20020495],\n",
       "       [4.54009819, 5.14574877],\n",
       "       [6.13231286, 6.03068526],\n",
       "       [5.84932478, 6.74170069],\n",
       "       [4.74232002, 5.26113458],\n",
       "       [5.28320373, 5.38907173],\n",
       "       [4.82510861, 4.98975208],\n",
       "       [6.91373735, 8.14960174],\n",
       "       [3.96271612, 4.31615389],\n",
       "       [5.06259503, 5.19295685],\n",
       "       [3.25809654, 3.87120101],\n",
       "       [6.91671502, 8.15046791],\n",
       "       [2.94443898, 4.4308168 ],\n",
       "       [5.17897061, 5.40132512],\n",
       "       [4.74493213, 5.19295685],\n",
       "       [4.26267988, 4.53259949],\n",
       "       [4.30406509, 4.54329478],\n",
       "       [4.64246597, 4.81947479],\n",
       "       [4.58292458, 4.76983681],\n",
       "       [5.22950305, 5.57859711],\n",
       "       [5.88610403, 4.54329478],\n",
       "       [6.29986794, 6.2146081 ],\n",
       "       [4.67282883, 4.8598124 ],\n",
       "       [6.27664349, 5.18009674],\n",
       "       [4.15888308, 4.8598124 ],\n",
       "       [5.23644196, 5.33753808],\n",
       "       [4.69134788, 4.8978398 ],\n",
       "       [5.25227343, 5.36129217],\n",
       "       [5.01727984, 4.29045944],\n",
       "       [4.17438727, 4.46590812],\n",
       "       [5.73979291, 6.69826805],\n",
       "       [5.72227706, 5.13521003],\n",
       "       [6.1633148 , 4.79330813],\n",
       "       [5.12989871, 4.51085951],\n",
       "       [5.02388052, 5.1590553 ],\n",
       "       [4.83310225, 5.25384288],\n",
       "       [5.26269019, 4.74493213],\n",
       "       [5.77950819, 5.23590991],\n",
       "       [5.53733427, 6.62539237],\n",
       "       [5.42406857, 5.5089834 ],\n",
       "       [5.71042702, 6.68710861],\n",
       "       [4.35156743, 4.96494033],\n",
       "       [4.51085951, 4.75359019],\n",
       "       [3.71357207, 4.14313473],\n",
       "       [4.6443909 , 4.82028157],\n",
       "       [5.87493073, 6.75227038],\n",
       "       [5.77019424, 5.21981514],\n",
       "       [5.22035583, 5.32300998],\n",
       "       [4.96284463, 5.10594547],\n",
       "       [7.03438793, 8.18618599],\n",
       "       [5.20400669, 5.3082677 ],\n",
       "       [5.61895054, 4.94092788],\n",
       "       [4.97327951, 5.24015845],\n",
       "       [4.98223582, 5.1113852 ],\n",
       "       [4.52178858, 4.73619845],\n",
       "       [4.0181832 , 4.35542595],\n",
       "       [5.83364046, 5.32739061],\n",
       "       [4.77068462, 4.96284463],\n",
       "       [5.81711116, 4.24849524],\n",
       "       [5.34233425, 5.44241771],\n",
       "       [4.6443909 , 4.83628191],\n",
       "       [4.69134788, 5.1590553 ],\n",
       "       [7.05531284, 8.19284713],\n",
       "       [5.24544388, 5.58986695],\n",
       "       [5.37063803, 5.46806014],\n",
       "       [5.83188248, 6.73459166],\n",
       "       [4.38202663, 4.62497281],\n",
       "       [5.491414  , 4.67189382],\n",
       "       [4.74493213, 4.94164242],\n",
       "       [3.21887582, 4.49980967],\n",
       "       [2.74084002, 4.08933202],\n",
       "       [4.26267988, 4.51085951],\n",
       "       [4.60517019, 4.82831374],\n",
       "       [5.60580207, 6.64898455],\n",
       "       [5.06638531, 5.41298444],\n",
       "       [4.75186457, 4.91191932],\n",
       "       [3.67630067, 4.42723898],\n",
       "       [5.25227343, 5.36129217],\n",
       "       [6.18208491, 4.86522409],\n",
       "       [5.92585879, 5.47604505],\n",
       "       [4.34120464, 4.57367952],\n",
       "       [3.8501476 , 4.20469262],\n",
       "       [4.57471098, 4.80402104],\n",
       "       [5.05624581, 5.40267738],\n",
       "       [6.2887875 , 6.20253552],\n",
       "       [6.95749737, 8.16251625],\n",
       "       [5.35564243, 5.44630624],\n",
       "       [5.99645209, 4.91265489],\n",
       "       [4.61512052, 4.81218436],\n",
       "       [4.33859708, 4.59410924],\n",
       "       [5.26785816, 5.37527841],\n",
       "       [5.11198779, 4.47733681],\n",
       "       [6.17690623, 6.0799332 ],\n",
       "       [5.32787617, 6.55961524],\n",
       "       [7.05789794, 8.19367667],\n",
       "       [5.5037042 , 4.69957086],\n",
       "       [5.69238443, 5.08078305],\n",
       "       [6.27193317, 6.18414889],\n",
       "       [6.32166717, 6.23832463],\n",
       "       [4.75359019, 4.92725369],\n",
       "       [5.88332239, 6.75576892],\n",
       "       [5.61312811, 5.27811466],\n",
       "       [4.84182209, 5.32154549],\n",
       "       [5.20400669, 5.31811999],\n",
       "       [5.33078456, 4.26127043],\n",
       "       [4.259859  , 4.50976   ],\n",
       "       [3.95124372, 4.76217393],\n",
       "       [5.79605775, 6.72022016],\n",
       "       [4.02535169, 4.33073334],\n",
       "       [4.72738782, 4.90527478],\n",
       "       [2.30258509, 2.30258509],\n",
       "       [6.07073773, 4.36564316],\n",
       "       [6.1180972 , 4.60216568],\n",
       "       [5.98896142, 4.89034913],\n",
       "       [5.53969369, 4.7782828 ],\n",
       "       [4.77068462, 3.68887945],\n",
       "       [4.93447393, 5.09986643],\n",
       "       [4.21950771, 4.49980967],\n",
       "       [5.37342484, 4.38077585],\n",
       "       [4.76813901, 5.27658287],\n",
       "       [4.3795235 , 4.60416969],\n",
       "       [6.19440539, 4.91044657],\n",
       "       [5.27811466, 4.77068462],\n",
       "       [4.4543473 , 4.66343909]])"
      ]
     },
     "execution_count": 19,
     "metadata": {},
     "output_type": "execute_result"
    }
   ],
   "source": [
    "predicted = model.predict(test_features)\n",
    "test_features"
   ]
  },
  {
   "cell_type": "code",
   "execution_count": 20,
   "id": "f05f299e",
   "metadata": {},
   "outputs": [
    {
     "name": "stdout",
     "output_type": "stream",
     "text": [
      "250\n"
     ]
    }
   ],
   "source": [
    "count = 0\n",
    "\n",
    "for i in range(len(predicted)):\n",
    "    if round(predicted[i], 8) == round(test_labels[i], 8):\n",
    "        count += 1\n",
    "        \n",
    "count/len(predicted)\n",
    "print(len(predicted))"
   ]
  },
  {
   "cell_type": "code",
   "execution_count": 21,
   "id": "ea91f8b8",
   "metadata": {},
   "outputs": [
    {
     "data": {
      "text/plain": [
       "(378.0, 112.0)"
      ]
     },
     "execution_count": 21,
     "metadata": {},
     "output_type": "execute_result"
    }
   ],
   "source": [
    "round(np.power(np.e, test_features[0][0]), 1), round(np.power(np.e, test_features[0][1]), 1)"
   ]
  },
  {
   "cell_type": "code",
   "execution_count": 22,
   "id": "20e6c569",
   "metadata": {},
   "outputs": [
    {
     "name": "stdout",
     "output_type": "stream",
     "text": [
      "[4.233600e+04 7.533600e+04 4.661000e+03 1.689349e+04 3.829500e+04\n",
      " 7.220530e+04 8.664000e+04 1.912724e+04 4.087500e+04 2.589890e+05\n",
      " 1.167274e+05 3.170600e+04 7.704944e+04 1.920000e+04 3.728600e+04\n",
      " 1.494675e+05 3.156300e+04 2.178300e+04 9.879000e+03 3.604137e+06\n",
      " 2.743500e+04 2.029429e+04 5.458482e+04 5.498029e+04 1.121452e+05\n",
      " 1.728000e+03 1.650290e+05 2.599200e+04 7.717500e+04 3.713241e+06]\n",
      "[4.233600e+04 7.533600e+04 4.661000e+03 1.689349e+04 3.829500e+04\n",
      " 7.220530e+04 8.664000e+04 1.912724e+04 4.087500e+04 2.589890e+05\n",
      " 1.167274e+05 3.170600e+04 7.704944e+04 1.920000e+04 3.728600e+04\n",
      " 1.494675e+05 3.156300e+04 2.178300e+04 9.879000e+03 3.604137e+06\n",
      " 2.743500e+04 2.029429e+04 5.458482e+04 5.498029e+04 1.121452e+05\n",
      " 1.728000e+03 1.650290e+05 2.599200e+04 7.717500e+04 3.713241e+06]\n"
     ]
    }
   ],
   "source": [
    "print(np.power(np.e, predicted[:30]))\n",
    "print(np.power(np.e, test_labels[:30]))"
   ]
  },
  {
   "cell_type": "code",
   "execution_count": 23,
   "id": "c88de173",
   "metadata": {},
   "outputs": [
    {
     "name": "stdout",
     "output_type": "stream",
     "text": [
      "[1.75785792 1.09861229]\n"
     ]
    },
    {
     "data": {
      "text/plain": [
       "array([17.4])"
      ]
     },
     "execution_count": 23,
     "metadata": {},
     "output_type": "execute_result"
    }
   ],
   "source": [
    "x, y = 5.8, 3\n",
    "\n",
    "input = np.array([np.log(x), np.log(y)])\n",
    "print(input)\n",
    "\n",
    "log_result = model.predict([input])\n",
    "\n",
    "\n",
    "result_transform = np.power(np.e, log_result)\n",
    "result_transform"
   ]
  },
  {
   "cell_type": "code",
   "execution_count": 24,
   "id": "b5855ca7",
   "metadata": {},
   "outputs": [],
   "source": [
    "from sklearn.metrics import confusion_matrix"
   ]
  },
  {
   "cell_type": "code",
   "execution_count": 25,
   "id": "e2e7cf17",
   "metadata": {},
   "outputs": [
    {
     "data": {
      "text/plain": [
       "array([ True,  True,  True,  True,  True,  True,  True,  True,  True,\n",
       "        True,  True,  True,  True,  True,  True,  True,  True,  True,\n",
       "        True,  True,  True,  True,  True,  True,  True,  True,  True,\n",
       "        True,  True,  True,  True,  True,  True,  True,  True,  True,\n",
       "        True,  True,  True,  True,  True,  True,  True,  True,  True,\n",
       "        True,  True,  True,  True,  True,  True,  True,  True,  True,\n",
       "        True,  True,  True,  True,  True,  True,  True,  True,  True,\n",
       "        True,  True,  True,  True,  True,  True,  True,  True,  True,\n",
       "        True,  True,  True,  True,  True,  True,  True,  True,  True,\n",
       "        True,  True,  True,  True,  True,  True,  True,  True,  True,\n",
       "        True,  True,  True,  True,  True,  True,  True,  True,  True,\n",
       "        True,  True,  True,  True,  True,  True,  True,  True,  True,\n",
       "        True,  True,  True,  True,  True,  True,  True,  True,  True,\n",
       "        True,  True,  True,  True,  True,  True,  True,  True,  True,\n",
       "        True,  True,  True,  True,  True,  True,  True,  True,  True,\n",
       "        True,  True,  True,  True,  True,  True,  True,  True,  True,\n",
       "        True,  True,  True,  True,  True,  True,  True,  True,  True,\n",
       "        True,  True,  True,  True,  True,  True,  True,  True,  True,\n",
       "        True,  True,  True,  True,  True,  True,  True,  True,  True,\n",
       "        True,  True,  True,  True,  True,  True,  True,  True,  True,\n",
       "        True,  True,  True,  True,  True,  True,  True,  True,  True,\n",
       "        True,  True,  True,  True,  True,  True,  True,  True,  True,\n",
       "        True,  True,  True,  True,  True,  True,  True,  True,  True,\n",
       "        True,  True,  True,  True,  True,  True,  True,  True,  True,\n",
       "        True,  True,  True,  True,  True,  True,  True,  True,  True,\n",
       "        True,  True,  True,  True,  True,  True,  True,  True,  True,\n",
       "        True,  True,  True,  True,  True,  True,  True,  True,  True,\n",
       "        True,  True,  True,  True,  True,  True,  True])"
      ]
     },
     "execution_count": 25,
     "metadata": {},
     "output_type": "execute_result"
    }
   ],
   "source": [
    "np.ndarray.round(predicted, 3) == np.ndarray.round(test_labels, 3)"
   ]
  },
  {
   "cell_type": "code",
   "execution_count": 26,
   "id": "5565b107",
   "metadata": {},
   "outputs": [],
   "source": [
    "y_test_classes = np.ndarray.round(test_labels)\n",
    "y_pred_classes = np.ndarray.round(predicted)"
   ]
  },
  {
   "cell_type": "code",
   "execution_count": 27,
   "id": "2554b2f8",
   "metadata": {},
   "outputs": [],
   "source": [
    "cf_matrix = confusion_matrix(y_test_classes, y_pred_classes)"
   ]
  },
  {
   "cell_type": "markdown",
   "id": "b8f82ae8",
   "metadata": {},
   "source": [
    "# Plot confusion matrix, calculate scores (accuracy, recall, precision, f1)"
   ]
  },
  {
   "cell_type": "code",
   "execution_count": 30,
   "id": "9b7f7513",
   "metadata": {},
   "outputs": [],
   "source": [
    "from sklearn.metrics import plot_confusion_matrix"
   ]
  },
  {
   "cell_type": "code",
   "execution_count": 31,
   "id": "9e41c0d0",
   "metadata": {},
   "outputs": [
    {
     "data": {
      "image/png": "[encoded data removed]",
      "text/plain": [
       "<Figure size 432x288 with 2 Axes>"
      ]
     },
     "metadata": {
      "needs_background": "light"
     },
     "output_type": "display_data"
    }
   ],
   "source": [
    "import seaborn as sns\n",
    "import matplotlib.pyplot as plt\n",
    "\n",
    "ax = sns.heatmap(cf_matrix, annot=True, cmap='Blues')\n",
    "\n",
    "ax.set_title('Seaborn Confusion Matrix with labels\\n\\n');\n",
    "ax.set_xlabel('\\nPredicted Values')\n",
    "ax.set_ylabel('Actual Values ');\n",
    "\n",
    "## Display the visualization of the Confusion Matrix.\n",
    "plt.show()"
   ]
  },
  {
   "cell_type": "code",
   "execution_count": 32,
   "id": "f95f8957",
   "metadata": {},
   "outputs": [],
   "source": [
    "from sklearn.metrics import accuracy_score, recall_score, precision_score, f1_score"
   ]
  },
  {
   "cell_type": "code",
   "execution_count": 33,
   "id": "3e7e1769",
   "metadata": {},
   "outputs": [
    {
     "name": "stdout",
     "output_type": "stream",
     "text": [
      "1.0\n",
      "1.0\n",
      "1.0\n",
      "1.0\n"
     ]
    }
   ],
   "source": [
    "print(accuracy_score(y_test_classes, y_pred_classes))\n",
    "print(recall_score(y_test_classes, y_pred_classes, average='micro'))\n",
    "print(precision_score(y_test_classes, y_pred_classes, average='micro'))\n",
    "print(f1_score(y_test_classes, y_pred_classes, average='weighted'))"
   ]
  },
  {
   "cell_type": "code",
   "execution_count": null,
   "id": "e212b89b",
   "metadata": {},
   "outputs": [],
   "source": []
  }
 ],
 "metadata": {
  "kernelspec": {
   "display_name": "Python 3 (ipykernel)",
   "language": "python",
   "name": "python3"
  },
  "language_info": {
   "codemirror_mode": {
    "name": "ipython",
    "version": 3
   },
   "file_extension": ".py",
   "mimetype": "text/x-python",
   "name": "python",
   "nbconvert_exporter": "python",
   "pygments_lexer": "ipython3",
   "version": "3.9.12"
  }
 },
 "nbformat": 4,
 "nbformat_minor": 5
}
